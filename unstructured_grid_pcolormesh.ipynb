{
  "nbformat": 4,
  "nbformat_minor": 0,
  "metadata": {
    "colab": {
      "name": "unstructured_grid_pcolormesh.ipynb",
      "provenance": [],
      "authorship_tag": "ABX9TyPRWsJM0d1XRqYSXVNktEGS",
      "include_colab_link": true
    },
    "kernelspec": {
      "name": "python3",
      "display_name": "Python 3"
    }
  },
  "cells": [
    {
      "cell_type": "markdown",
      "metadata": {
        "id": "view-in-github",
        "colab_type": "text"
      },
      "source": [
        "<a href=\"https://colab.research.google.com/github/yohanesnuwara/RandomCoolStuffs/blob/master/unstructured_grid_pcolormesh.ipynb\" target=\"_parent\"><img src=\"https://colab.research.google.com/assets/colab-badge.svg\" alt=\"Open In Colab\"/></a>"
      ]
    },
    {
      "cell_type": "markdown",
      "metadata": {
        "id": "ftw1k0NGfpyV",
        "colab_type": "text"
      },
      "source": [
        "# Visualizing Unstructured Grid for Finite-Difference Barely Using Matplotlib"
      ]
    },
    {
      "cell_type": "code",
      "metadata": {
        "id": "ZNwWTbrfW4gj",
        "colab_type": "code",
        "colab": {}
      },
      "source": [
        "import numpy as np\n",
        "import matplotlib.pyplot as plt"
      ],
      "execution_count": 1,
      "outputs": []
    },
    {
      "cell_type": "code",
      "metadata": {
        "id": "PxPxefM5W_tq",
        "colab_type": "code",
        "colab": {
          "base_uri": "https://localhost:8080/",
          "height": 265
        },
        "outputId": "3100af0a-34b0-424d-f6db-fc3cd2f23658"
      },
      "source": [
        "def f(x):\n",
        "  return (x**3) / 100\n",
        "\n",
        "x = np.linspace(-10,10,101)\n",
        "y = f(x)\n",
        "\n",
        "plt.plot(x,y);"
      ],
      "execution_count": 25,
      "outputs": [
        {
          "output_type": "display_data",
          "data": {
            "image/png": "[encoded data removed]",
            "text/plain": [
              "<Figure size 432x288 with 1 Axes>"
            ]
          },
          "metadata": {
            "tags": [],
            "needs_background": "light"
          }
        }
      ]
    },
    {
      "cell_type": "code",
      "metadata": {
        "id": "Da80Cc24bRka",
        "colab_type": "code",
        "colab": {
          "base_uri": "https://localhost:8080/",
          "height": 483
        },
        "outputId": "2ddb5196-43d1-4b2b-b768-ad6f99be68ad"
      },
      "source": [
        "# define x-axis\n",
        "x = np.linspace(-50,50,11)\n",
        "\n",
        "# transform x and y-axis with a function\n",
        "x = y = f(x)\n",
        "\n",
        "# create z data\n",
        "val = len(x) * len(y)\n",
        "Z = np.arange(val).reshape(len(x), len(y))\n",
        "\n",
        "# display the unstructured grid\n",
        "fig, ax = plt.subplots(figsize=(8,8))\n",
        "ax.pcolormesh(x, y, np.flipud(Z), linewidth=0.01, edgecolor='black');"
      ],
      "execution_count": 60,
      "outputs": [
        {
          "output_type": "display_data",
          "data": {
            "image/png": "[encoded data removed]",
            "text/plain": [
              "<Figure size 576x576 with 1 Axes>"
            ]
          },
          "metadata": {
            "tags": [],
            "needs_background": "light"
          }
        }
      ]
    }
  ]
}
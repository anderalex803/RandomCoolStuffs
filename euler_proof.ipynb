{
  "nbformat": 4,
  "nbformat_minor": 0,
  "metadata": {
    "colab": {
      "name": "euler-proof.ipynb",
      "provenance": [],
      "collapsed_sections": [
        "AMC_aYHCKUW2",
        "lSJ6Vbkjx3vI",
        "c9oZKrCqOFgw",
        "vJdR0PvXtIfW",
        "agTkke8W2jxO"
      ],
      "authorship_tag": "ABX9TyP77CVFjqU/9qaTa914hpkC",
      "include_colab_link": true
    },
    "kernelspec": {
      "name": "python3",
      "display_name": "Python 3"
    }
  },
  "cells": [
    {
      "cell_type": "markdown",
      "metadata": {
        "id": "view-in-github",
        "colab_type": "text"
      },
      "source": [
        "<a href=\"https://colab.research.google.com/github/yohanesnuwara/RandomCoolStuffs/blob/master/euler_proof.ipynb\" target=\"_parent\"><img src=\"https://colab.research.google.com/assets/colab-badge.svg\" alt=\"Open In Colab\"/></a>"
      ]
    },
    {
      "cell_type": "markdown",
      "metadata": {
        "id": "G0GLks7GyF5t"
      },
      "source": [
        "# On the Sums of Series of Reciprocals\n",
        "\n",
        "Inspired by [a great article by Marco Tavora in Towards Data Science](https://towardsdatascience.com/on-the-sums-of-series-of-reciprocals-6711437ad893)\n",
        "\n",
        "Code written by Yohanes Nuwara\n",
        "\n",
        "<div>\n",
        "<img src=\"https://user-images.githubusercontent.com/51282928/77248847-4b606680-6c6f-11ea-983c-3b212b235328.jpg\" width=\"300\"/>\n",
        "</div>\n",
        "\n",
        "*Dedicated to the greatest mathematician of all time, Leonhard Euler (1707-1783)*"
      ]
    },
    {
      "cell_type": "code",
      "metadata": {
        "id": "OElkE8f1DVeV"
      },
      "source": [
        "import numpy as np\n",
        "import matplotlib.pyplot as plt\n",
        "import pandas as pd\n",
        "\n",
        "import scipy.special"
      ],
      "execution_count": null,
      "outputs": []
    },
    {
      "cell_type": "markdown",
      "metadata": {
        "id": "AMC_aYHCKUW2"
      },
      "source": [
        "## Taylor Series of exponential function $e^x$\n",
        "\n",
        "$$e^x=1+x+\\frac{x^2}{2!}+\\frac{x^3}{3!}+...$$"
      ]
    },
    {
      "cell_type": "markdown",
      "metadata": {
        "id": "oWylj8Ybx12A"
      },
      "source": [
        "### Real function"
      ]
    },
    {
      "cell_type": "code",
      "metadata": {
        "id": "eZf-266pDuk5",
        "outputId": "640e8913-3748-4b4e-b91b-628ea798b937",
        "colab": {
          "base_uri": "https://localhost:8080/",
          "height": 265
        }
      },
      "source": [
        "x = np.linspace(-3, 3, 100)\n",
        "y_exp = np.exp(x)\n",
        "\n",
        "plt.plot(x, y_exp, '.')\n",
        "plt.grid(True)"
      ],
      "execution_count": null,
      "outputs": [
        {
          "output_type": "display_data",
          "data": {
            "image/png": "[encoded data removed]",
            "text/plain": [
              "<Figure size 432x288 with 1 Axes>"
            ]
          },
          "metadata": {
            "tags": []
          }
        }
      ]
    },
    {
      "cell_type": "markdown",
      "metadata": {
        "id": "lSJ6Vbkjx3vI"
      },
      "source": [
        "### Approximated function"
      ]
    },
    {
      "cell_type": "code",
      "metadata": {
        "id": "1rFBfbcFEciv",
        "outputId": "19454b06-5dce-47c3-ca55-bf8c76fba156",
        "colab": {
          "base_uri": "https://localhost:8080/",
          "height": 297
        }
      },
      "source": [
        "n = 3 # adjust\n",
        "x = np.linspace(-3, 3, 100)\n",
        "\n",
        "ys = []\n",
        "for j in range(len(x)):\n",
        "  yn = []\n",
        "  for i in range(0,n+1):\n",
        "    y = (x[j]**i) / scipy.special.factorial(i)\n",
        "    yn.append(float(y))\n",
        "  ysum = np.sum(yn)\n",
        "  ys.append(float(ysum))\n",
        "\n",
        "p1 = plt.plot(x, y_exp, '.', color='blue')\n",
        "p2 = plt.plot(x, ys, color='red')\n",
        "plt.title('Taylor Approximation to Function $e^x$ with n={}'.format(n))\n",
        "plt.legend((p1[0], p2[0]), (['Real value', 'Approximated value']))\n",
        "plt.xlabel('x'); plt.ylabel('y')\n",
        "plt.grid(True)"
      ],
      "execution_count": null,
      "outputs": [
        {
          "output_type": "display_data",
          "data": {
            "image/png": "[encoded data removed]",
            "text/plain": [
              "<Figure size 432x288 with 1 Axes>"
            ]
          },
          "metadata": {
            "tags": []
          }
        }
      ]
    },
    {
      "cell_type": "markdown",
      "metadata": {
        "id": "c9oZKrCqOFgw"
      },
      "source": [
        "## Bernoulli Numbers\n",
        "\n",
        "Solving Bernoulli numbers $B_k$ from the following summation:\n",
        "\n",
        "$$\\sum_{k=1}^{n-1} \\frac{n!}{k!(n-k)!} B_k=0$$\n"
      ]
    },
    {
      "cell_type": "code",
      "metadata": {
        "id": "KjVH-Sme8e53",
        "outputId": "e76b11de-febc-4a0a-d74d-d896f974f99e",
        "colab": {
          "base_uri": "https://localhost:8080/",
          "height": 385
        }
      },
      "source": [
        "from fractions import Fraction as Fr\n",
        "\n",
        "count = 20 # how many bernoulli numbers will be created\n",
        "\n",
        "def bernoulli(n):\n",
        "    A = [0] * (n+1)\n",
        "    for m in range(n+1):\n",
        "        A[m] = Fr(1, m+1)\n",
        "        for j in range(m, 0, -1):\n",
        "          A[j-1] = j*(A[j-1] - A[j])\n",
        "    return A[0] # (which is Bn)\n",
        " \n",
        "bn = [(i, bernoulli(i)) for i in range(count+1)]\n",
        "# bn = [(i, b) for i,b in bn if b] # filter the odd sequence\n",
        "width = max(len(str(b.numerator)) for i,b in bn)\n",
        "print('Bernoulli numbers until n={}'.format(count))\n",
        "for i,b in bn:\n",
        "    print('B(%2i) = %*i/%i' % (i, width, b.numerator, b.denominator))"
      ],
      "execution_count": null,
      "outputs": [
        {
          "output_type": "stream",
          "text": [
            "Bernoulli numbers until n=20\n",
            "B( 0) =       1/1\n",
            "B( 1) =       1/2\n",
            "B( 2) =       1/6\n",
            "B( 3) =       0/1\n",
            "B( 4) =      -1/30\n",
            "B( 5) =       0/1\n",
            "B( 6) =       1/42\n",
            "B( 7) =       0/1\n",
            "B( 8) =      -1/30\n",
            "B( 9) =       0/1\n",
            "B(10) =       5/66\n",
            "B(11) =       0/1\n",
            "B(12) =    -691/2730\n",
            "B(13) =       0/1\n",
            "B(14) =       7/6\n",
            "B(15) =       0/1\n",
            "B(16) =   -3617/510\n",
            "B(17) =       0/1\n",
            "B(18) =   43867/798\n",
            "B(19) =       0/1\n",
            "B(20) = -174611/330\n"
          ],
          "name": "stdout"
        }
      ]
    },
    {
      "cell_type": "code",
      "metadata": {
        "id": "7qJkC5159O6m",
        "outputId": "5e707e07-a93d-4efd-e954-40aa803b1a42",
        "colab": {
          "base_uri": "https://localhost:8080/",
          "height": 385
        }
      },
      "source": [
        "# convert fractions to decimal\n",
        "b2n = []\n",
        "for j in range(len(bn)):\n",
        "  bernoulli = np.float64(bn[j][1])\n",
        "  print('B({}) = {}'.format(j, bernoulli))\n",
        "  b2n.append(float(bernoulli))\n",
        "\n",
        "# output: b2n"
      ],
      "execution_count": null,
      "outputs": [
        {
          "output_type": "stream",
          "text": [
            "B(0) = 1.0\n",
            "B(1) = 0.5\n",
            "B(2) = 0.16666666666666666\n",
            "B(3) = 0.0\n",
            "B(4) = -0.03333333333333333\n",
            "B(5) = 0.0\n",
            "B(6) = 0.023809523809523808\n",
            "B(7) = 0.0\n",
            "B(8) = -0.03333333333333333\n",
            "B(9) = 0.0\n",
            "B(10) = 0.07575757575757576\n",
            "B(11) = 0.0\n",
            "B(12) = -0.2531135531135531\n",
            "B(13) = 0.0\n",
            "B(14) = 1.1666666666666667\n",
            "B(15) = 0.0\n",
            "B(16) = -7.092156862745098\n",
            "B(17) = 0.0\n",
            "B(18) = 54.971177944862156\n",
            "B(19) = 0.0\n",
            "B(20) = -529.1242424242424\n",
            "B(21) = 0.0\n"
          ],
          "name": "stdout"
        }
      ]
    },
    {
      "cell_type": "markdown",
      "metadata": {
        "id": "l3BiI28TCyfk"
      },
      "source": [
        "For odd sequence, except $1$, bernoulli number is $0$"
      ]
    },
    {
      "cell_type": "markdown",
      "metadata": {
        "id": "vJdR0PvXtIfW"
      },
      "source": [
        "## Taylor Series of tangent function $\\tan(x)$\n",
        "\n",
        "Bernoulli numbers are applied to compute tangent function approximated using Taylor series. In the formulation, Bernoulli numbers ($B_{2n}$) is used. \n",
        "\n",
        "$$\\tan(x) = \\sum_{n=1}^{\\infty}(-1)^{n+1} \\frac{2^{2n}(2^{2n}-1)}{(2n)!}B_{2n}x^{2n-1}$$"
      ]
    },
    {
      "cell_type": "markdown",
      "metadata": {
        "id": "PK8ew2fdxrcG"
      },
      "source": [
        "### Real function"
      ]
    },
    {
      "cell_type": "code",
      "metadata": {
        "id": "A9WKV8LJ8lhq",
        "outputId": "1d86f151-3219-49b5-ee1c-80400970f154",
        "colab": {
          "base_uri": "https://localhost:8080/",
          "height": 269
        }
      },
      "source": [
        "x = np.arange(-2*np.pi, 2*np.pi, 0.1)\n",
        "y = np.tan(x)\n",
        "\n",
        "# Insert a NaN where the difference between successive points is negative\n",
        "y[:-1][np.diff(y) < 0] = np.nan\n",
        "\n",
        "plt.plot(x, y, '.')\n",
        "plt.xlim(min(x), max(x)); plt.ylim(-2,2)\n",
        "plt.grid(True)"
      ],
      "execution_count": null,
      "outputs": [
        {
          "output_type": "display_data",
          "data": {
            "image/png": "[encoded data removed]",
            "text/plain": [
              "<Figure size 432x288 with 1 Axes>"
            ]
          },
          "metadata": {
            "tags": []
          }
        }
      ]
    },
    {
      "cell_type": "markdown",
      "metadata": {
        "id": "SnenEsmfxuik"
      },
      "source": [
        "### Approximated function"
      ]
    },
    {
      "cell_type": "code",
      "metadata": {
        "id": "zT_QuXFkOYN5",
        "outputId": "9c28e930-fac7-4025-f624-511b8a9ad24c",
        "colab": {
          "base_uri": "https://localhost:8080/"
        }
      },
      "source": [
        "degree = 30\n",
        "x = np.deg2rad(degree)\n",
        "count = 20\n",
        "\n",
        "# compute bernoulli numbers\n",
        "def bernoulli(n):\n",
        "    A = [0] * (n+1)\n",
        "    for m in range(n+1):\n",
        "        A[m] = Fr(1, m+1)\n",
        "        for j in range(m, 0, -1):\n",
        "          A[j-1] = j*(A[j-1] - A[j])\n",
        "    return A[0] # (which is Bn)\n",
        " \n",
        "bn = [(i, bernoulli(i)) for i in range((2 * count)+1)]\n",
        "\n",
        "# convert fractions to decimal\n",
        "b2n = []\n",
        "for j in range(len(bn)):\n",
        "  bernoulli = np.float64(bn[j][1])\n",
        "  b2n.append(float(bernoulli))\n",
        "\n",
        "# compute tangent approximation\n",
        "series = []\n",
        "for n in range(1, count+1):\n",
        "  a = (-1)**(n+1)\n",
        "  numerator = (2**(2*n)) * ((2**(2*n)) - 1)\n",
        "  denominator = scipy.special.factorial(2*n)\n",
        "  bernoulli = b2n[2*n]\n",
        "  serie = a * (numerator / denominator) * bernoulli * (x**(2 * n - 1))\n",
        "  series.append(float(serie))\n",
        "\n",
        "tangent = np.sum(series)\n",
        "print('Using Taylor series, tangent of', degree, 'degree, or in radian', x, 'is:', tangent)"
      ],
      "execution_count": null,
      "outputs": [
        {
          "output_type": "stream",
          "text": [
            "Using Taylor series, tangent of 30 degree, or in radian 0.5235987755982988 is: 0.5773502691896256\n"
          ],
          "name": "stdout"
        }
      ]
    },
    {
      "cell_type": "markdown",
      "metadata": {
        "id": "-WYZqeOK1Bfb"
      },
      "source": [
        "Plot values of tangent for $-2\\pi < x < 2\\pi$ (In reality, the Taylor series for tangent function only computes for $-\\frac{\\pi}{2} < x < \\frac{\\pi}{2}$)"
      ]
    },
    {
      "cell_type": "code",
      "metadata": {
        "id": "cXLGI_kyzO6Q",
        "outputId": "45f32ac7-c690-4a3f-fc97-2c1ae02b5267",
        "colab": {
          "base_uri": "https://localhost:8080/"
        }
      },
      "source": [
        "x = np.arange(-2*np.pi, 2*np.pi, 0.1)\n",
        "count = 20\n",
        "\n",
        "# compute bernoulli numbers\n",
        "def bernoulli(n):\n",
        "    A = [0] * (n+1)\n",
        "    for m in range(n+1):\n",
        "        A[m] = Fr(1, m+1)\n",
        "        for j in range(m, 0, -1):\n",
        "          A[j-1] = j*(A[j-1] - A[j])\n",
        "    return A[0] # (which is Bn)\n",
        " \n",
        "bn = [(i, bernoulli(i)) for i in range((2 * count)+1)]\n",
        "\n",
        "# convert fractions to decimal\n",
        "b2n = []\n",
        "for j in range(len(bn)):\n",
        "  bernoulli = np.float64(bn[j][1])\n",
        "  b2n.append(float(bernoulli))\n",
        "\n",
        "# compute tangent taylor series\n",
        "tangents = []\n",
        "for c in range(len(x)):\n",
        "  series = []\n",
        "  for n in range(1, count+1):\n",
        "    a = (-1)**(n+1)\n",
        "    numerator = (2**(2*n)) * ((2**(2*n)) - 1)\n",
        "    denominator = scipy.special.factorial(2*n)\n",
        "    bernoulli = b2n[2*n]\n",
        "    serie = a * (numerator / denominator) * bernoulli * (x[c]**(2 * n - 1))\n",
        "    series.append(float(serie))\n",
        "  tangent = np.sum(series)\n",
        "  tangents.append(float(tangent))\n",
        "\n",
        "# plot\n",
        "p1 = plt.plot(x, y, '.', color='blue')\n",
        "p2 = plt.plot(x, tangents, color='red')\n",
        "plt.xlim(min(x), max(x)); plt.ylim(-2,2)\n",
        "plt.title('Taylor Approximation to Function $tan(x)$ with n={}'.format(count))\n",
        "plt.legend((p1[0], p2[0]), (['Real value', 'Approximated value']))\n",
        "plt.xlabel('x'); plt.ylabel('y')\n",
        "plt.grid(True)"
      ],
      "execution_count": null,
      "outputs": [
        {
          "output_type": "display_data",
          "data": {
            "image/png": "[encoded data removed]",
            "text/plain": [
              "<Figure size 432x288 with 1 Axes>"
            ]
          },
          "metadata": {
            "tags": []
          }
        }
      ]
    },
    {
      "cell_type": "markdown",
      "metadata": {
        "id": "agTkke8W2jxO"
      },
      "source": [
        "## Euler's Sum of the reciprocals of even powers of integer numbers\n",
        "\n",
        "In Euler's paper in 1735, *De summis serierum reciprocarum*\n",
        "\n",
        "$$\\sum_{n=1}^{\\infty} \\frac{1}{n^{2k}}=(-1)^{k-1} \\frac{2^{2k}B_{2k}}{2 \\cdot (2k)!}\\pi^{2k}$$\n",
        "\n",
        "Where $k=1,2,3,...$\n",
        "\n",
        "$k=1$, $$\\sum_{n=1}^{\\infty} \\frac{1}{n^{2}}=\\frac{1}{1^2}+\\frac{1}{2^2}+\\frac{1}{3^2}+...$$\n",
        "\n",
        "$k=2$, $$\\sum_{n=1}^{\\infty} \\frac{1}{n^{4}}=\\frac{1}{1^4}+\\frac{1}{2^4}+\\frac{1}{3^4}+...$$\n",
        "\n",
        "etc..."
      ]
    },
    {
      "cell_type": "markdown",
      "metadata": {
        "id": "3OlaOxUo6t9c"
      },
      "source": [
        "### Direct"
      ]
    },
    {
      "cell_type": "code",
      "metadata": {
        "id": "Q3NR5zUl2oft",
        "outputId": "639e45fa-f20f-4407-867d-4b068913ee68",
        "colab": {
          "base_uri": "https://localhost:8080/",
          "height": 33
        }
      },
      "source": [
        "k = 2\n",
        "n = 100\n",
        "\n",
        "series = []\n",
        "for i in range(1, (n+1)):\n",
        "  serie = 1 / (i**(2 * k))\n",
        "  series.append(float(serie))\n",
        "\n",
        "direct = np.sum(series)\n",
        "\n",
        "print('The sum of the reciprocals of power', k, 'of integer numbers:', direct)"
      ],
      "execution_count": null,
      "outputs": [
        {
          "output_type": "stream",
          "text": [
            "The sum of the reciprocals of power 2 of integer numbers: 1.0823229053444732\n"
          ],
          "name": "stdout"
        }
      ]
    },
    {
      "cell_type": "markdown",
      "metadata": {
        "id": "6NZGscIA6vnQ"
      },
      "source": [
        "### Euler's Proof"
      ]
    },
    {
      "cell_type": "code",
      "metadata": {
        "id": "HRIO4Kjh6xpX",
        "outputId": "51687c6a-b3d6-4cd6-dded-2d423eec2c67",
        "colab": {
          "base_uri": "https://localhost:8080/",
          "height": 33
        }
      },
      "source": [
        "k = 2\n",
        "\n",
        "# compute bernoulli numbers\n",
        "count = 20\n",
        "def bernoulli(n):\n",
        "    A = [0] * (n+1)\n",
        "    for m in range(n+1):\n",
        "        A[m] = Fr(1, m+1)\n",
        "        for j in range(m, 0, -1):\n",
        "          A[j-1] = j*(A[j-1] - A[j])\n",
        "    return A[0] # (which is Bn)\n",
        " \n",
        "bn = [(i, bernoulli(i)) for i in range((2 * count)+1)]\n",
        "\n",
        "# convert fractions to decimal\n",
        "b2n = []\n",
        "for j in range(len(bn)):\n",
        "  bernoulli = np.float64(bn[j][1])\n",
        "  b2n.append(float(bernoulli))\n",
        "\n",
        "a = -1**(k-1)\n",
        "bernoulli = b2n[2*k]\n",
        "numerator = (2**(2*k)) * bernoulli * (np.pi**(2*k))\n",
        "denominator = 2 * scipy.special.factorial(2*k)\n",
        "euler = a * (numerator / denominator)\n",
        "print('Using Euler Proof, the sum of the reciprocals of power', k, 'of integer numbers:', euler)"
      ],
      "execution_count": null,
      "outputs": [
        {
          "output_type": "stream",
          "text": [
            "Using Euler Proof, the sum of the reciprocals of power 2 of integer numbers: 1.082323233711138\n"
          ],
          "name": "stdout"
        }
      ]
    },
    {
      "cell_type": "markdown",
      "metadata": {
        "id": "MZHK_adO_wBK"
      },
      "source": [
        "Prove that Euler is genius, based on the comparison of above results using direct solution and his proof."
      ]
    },
    {
      "cell_type": "code",
      "metadata": {
        "id": "vLX6gJuW_3Mb",
        "outputId": "dda0b854-47ec-4f6b-e61a-707fb5672dda",
        "colab": {
          "base_uri": "https://localhost:8080/",
          "height": 33
        }
      },
      "source": [
        "if np.abs(euler - direct) < 0.001:\n",
        "  print('Leonhard Euler is GENIUS')"
      ],
      "execution_count": null,
      "outputs": [
        {
          "output_type": "stream",
          "text": [
            "Leonhard Euler is GENIUS\n"
          ],
          "name": "stdout"
        }
      ]
    },
    {
      "cell_type": "markdown",
      "metadata": {
        "id": "6_26XImn_5sh"
      },
      "source": [
        "### Yes, Leonhard Euler is a GENIUS MATHEMATICIAN.\n",
        "\n",
        "<a rel=\"license\" href=\"http://creativecommons.org/licenses/by/4.0/\"><img alt=\"Creative Commons License\" style=\"border-width:0\" src=\"https://licensebuttons.net/l/by/3.0/88x31.png\" /></a><br />This work is licensed under a <a rel=\"license\" href=\"http://creativecommons.org/licenses/by/4.0/\">Creative Commons Attribution 4.0 International License</a>."
      ]
    },
    {
      "cell_type": "code",
      "metadata": {
        "id": "o8seNu6wJNPp"
      },
      "source": [
        ""
      ],
      "execution_count": null,
      "outputs": []
    }
  ]
}